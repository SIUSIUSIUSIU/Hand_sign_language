{
  "cells": [
    {
      "cell_type": "markdown",
      "source": [
        "#Yolo v7 - tiny 학습 준비"
      ],
      "metadata": {
        "id": "aw7U1s3tZhUg"
      }
    },
    {
      "cell_type": "markdown",
      "source": [
        "※ 학습환경 구성"
      ],
      "metadata": {
        "id": "zsHWAIaCSRK8"
      }
    },
    {
      "cell_type": "markdown",
      "source": [
        "\n",
        "1.  Yolov5 학습시, 사용된 Datasets을 Roboflow에서 Yolov7 버전으로 다운받는다.\n",
        "2. 다운받은 Datasets을 서버로 옮긴다.\n",
        "3. 주피터 노트북을 통해 아래의 코드를 작성하여 학습 시작"
      ],
      "metadata": {
        "id": "JUjy5ip1R0ro"
      }
    },
    {
      "cell_type": "markdown",
      "source": [
        "※ Yolov7 다운로드 및 설치"
      ],
      "metadata": {
        "id": "mMxSo1pMSZg7"
      }
    },
    {
      "cell_type": "code",
      "execution_count": null,
      "metadata": {
        "id": "B5fjdzbERyYI"
      },
      "outputs": [],
      "source": [
        "!git clone https://github.com/WongKinYiu/yolov7\n",
        "# yolo v7을 git에서 가져와 클론하여 설치한다."
      ]
    },
    {
      "cell_type": "code",
      "execution_count": null,
      "metadata": {
        "id": "vT3ytgh5RyYM",
        "outputId": "006b163f-f4c1-4265-d6e2-41d25ddd52e9"
      },
      "outputs": [
        {
          "name": "stdout",
          "output_type": "stream",
          "text": [
            "/tf/notebooks/YOLOv7/yolov7\n"
          ]
        }
      ],
      "source": [
        "%cd yolov7\n",
        "# yolov7 폴더 접근"
      ]
    },
    {
      "cell_type": "code",
      "execution_count": null,
      "metadata": {
        "id": "3dg0bHn_RyYM"
      },
      "outputs": [],
      "source": [
        "!pip install -r requirements.txt\n",
        "# requirements.txt를 읽어와 설치"
      ]
    },
    {
      "cell_type": "markdown",
      "source": [
        " - requirements.txt의 내용"
      ],
      "metadata": {
        "id": "8DEkMojeTCFQ"
      }
    },
    {
      "cell_type": "code",
      "source": [
        "# Usage: pip install -r requirements.txt\n",
        "\n",
        "# Base ----------------------------------------\n",
        "matplotlib>=3.2.2\n",
        "numpy>=1.18.5\n",
        "opencv-python>=4.1.1\n",
        "Pillow>=7.1.2\n",
        "PyYAML>=5.3.1\n",
        "requests>=2.23.0\n",
        "scipy>=1.4.1\n",
        "torch>=1.7.0,!=1.12.0\n",
        "torchvision>=0.8.1,!=0.13.0\n",
        "tqdm>=4.41.0\n",
        "protobuf<4.21.3\n",
        "\n",
        "# Logging -------------------------------------\n",
        "tensorboard>=2.4.1\n",
        "# wandb\n",
        "\n",
        "# Plotting ------------------------------------\n",
        "pandas>=1.1.4\n",
        "seaborn>=0.11.0\n",
        "\n",
        "# Export --------------------------------------\n",
        "# coremltools>=4.1  # CoreML export\n",
        "# onnx>=1.9.0  # ONNX export\n",
        "# onnx-simplifier>=0.3.6  # ONNX simplifier\n",
        "# scikit-learn==0.19.2  # CoreML quantization\n",
        "# tensorflow>=2.4.1  # TFLite export\n",
        "# tensorflowjs>=3.9.0  # TF.js export\n",
        "# openvino-dev  # OpenVINO export\n",
        "\n",
        "# Extras --------------------------------------\n",
        "ipython  # interactive notebook\n",
        "psutil  # system utilization\n",
        "thop  # FLOPs computation\n",
        "# albumentations>=1.0.3\n",
        "# pycocotools>=2.0  # COCO mAP\n",
        "# roboflow"
      ],
      "metadata": {
        "id": "_I3wb0PYS4Sb"
      },
      "execution_count": null,
      "outputs": []
    },
    {
      "cell_type": "code",
      "execution_count": null,
      "metadata": {
        "id": "ftYnzzmnRyYN",
        "outputId": "d547383b-5866-40eb-abe3-26f6dee44c89"
      },
      "outputs": [
        {
          "name": "stdout",
          "output_type": "stream",
          "text": [
            "/tf/notebooks/YOLOv7/yolov7\n"
          ]
        }
      ],
      "source": [
        "%cd /tf/notebooks/YOLOv7/yolov7"
      ]
    },
    {
      "cell_type": "code",
      "source": [
        "!wget https://github.com/WongKinYiu/yolov7/releases/download/v0.1/yolov7-tiny.pt\n",
        "#첫 학습을 시작하기 위해 yolov7-tiny 학습용 가중치 다운로드"
      ],
      "metadata": {
        "id": "xWa-UtRCTWuE"
      },
      "execution_count": null,
      "outputs": []
    },
    {
      "cell_type": "markdown",
      "source": [
        "※ 데이터셋 정보 확인 및 설정파일 수정"
      ],
      "metadata": {
        "id": "rp4-TpJKZJlE"
      }
    },
    {
      "cell_type": "markdown",
      "source": [
        "- data.yaml 정보"
      ],
      "metadata": {
        "id": "hkPoD4esYRaT"
      }
    },
    {
      "cell_type": "code",
      "source": [
        "train: /tf/notebooks/datasets/train/images\n",
        "# train 데이터셋 경로\n",
        "val: /tf/notebooks/datasets/valid/images\n",
        "# val 데이터셋 경로\n",
        "\n",
        "nc: 26\n",
        "names: ['A', 'B', 'C', 'D', 'E', 'F', 'G', 'H', 'I', 'J', 'K', 'L', 'M', 'N', 'O', 'P', 'Q', 'R', 'S', 'T', 'U', 'V', 'W', 'X', 'Y', 'Z']"
      ],
      "metadata": {
        "id": "2zPVpAOgYT6I"
      },
      "execution_count": null,
      "outputs": []
    },
    {
      "cell_type": "markdown",
      "source": [
        "- yolov7-tiny.yaml 수정\n",
        " nc : 80에서 nc : 26으로 수정"
      ],
      "metadata": {
        "id": "kgStmolLYolx"
      }
    },
    {
      "cell_type": "code",
      "source": [
        "# parameters\n",
        "nc: 26  # number of classes\n",
        "depth_multiple: 1.0  # model depth multiple\n",
        "width_multiple: 1.0  # layer channel multiple\n",
        "\n",
        "# anchors\n",
        "anchors:\n",
        "  - [10,13, 16,30, 33,23]  # P3/8\n",
        "  - [30,61, 62,45, 59,119]  # P4/16\n",
        "  - [116,90, 156,198, 373,326]  # P5/32\n",
        "\n",
        "# yolov7-tiny backbone\n",
        "backbone:\n",
        "  # [from, number, module, args] c2, k=1, s=1, p=None, g=1, act=True\n",
        "  [[-1, 1, Conv, [32, 3, 2, None, 1, nn.LeakyReLU(0.1)]],  # 0-P1/2  \n",
        "  \n",
        "   [-1, 1, Conv, [64, 3, 2, None, 1, nn.LeakyReLU(0.1)]],  # 1-P2/4    \n",
        "   \n",
        "   ...(이하생략)"
      ],
      "metadata": {
        "id": "CYn2qPsBYwSs"
      },
      "execution_count": null,
      "outputs": []
    },
    {
      "cell_type": "markdown",
      "source": [
        "#Yolo v7 - tiny 학습시작"
      ],
      "metadata": {
        "id": "BKzCfqnZVQd7"
      }
    },
    {
      "cell_type": "markdown",
      "source": [
        "- 첫번째 학습 시작"
      ],
      "metadata": {
        "id": "bdU5B2hAUMSM"
      }
    },
    {
      "cell_type": "code",
      "execution_count": null,
      "metadata": {
        "id": "Mzr1QqrvRyYN"
      },
      "outputs": [],
      "source": [
        "!python /tf/notebooks/YOLOv7/yolov7/train.py --epochs 50 --device 0 --batch-size 64 \\\n",
        "--data /tf/notebooks/datasets/data.yaml --img 640 640 --cfg /tf/notebooks/YOLOv7/yolov7/cfg/training/yolov7-tiny.yaml \\\n",
        "--weights /tf/notebooks/YOLOv7/yolov7/yolov7-tiny.pt --hyp /tf/notebooks/YOLOv7/yolov7/data/hyp.scratch.tiny.yaml"
      ]
    },
    {
      "cell_type": "markdown",
      "source": [
        "- 첫번째 학습 결과"
      ],
      "metadata": {
        "id": "PRWNAjiLURpn"
      }
    },
    {
      "cell_type": "code",
      "source": [
        "    Epoch   gpu_mem       box       obj       cls     total    labels  img_size\n",
        "     49/49     8.96G   0.01469  0.007328   0.01556   0.03758        83       640\n",
        "               Class      Images      Labels           P           R      mAP@.5\n",
        "                 all         144         144       0.835       0.886       0.937       0.762\n",
        "                   A         144           5       0.774         0.8       0.898       0.767\n",
        "                   B         144           9           1       0.867       0.985       0.856\n",
        "                   C         144           3           1         0.8       0.995       0.786\n",
        "                   D         144           6        0.85           1       0.995       0.837\n",
        "                   E         144           4        0.74           1       0.995       0.829\n",
        "                   F         144           8       0.682           1       0.858       0.729\n",
        "                   G         144           5        0.87           1       0.996       0.882\n",
        "                   H         144           9       0.978           1       0.996       0.784\n",
        "                   I         144           2        0.54         0.5       0.515       0.412\n",
        "                   J         144           8       0.928           1       0.995       0.628\n",
        "                   K         144           6       0.879       0.833       0.973       0.827\n",
        "                   L         144           4       0.735           1       0.995       0.846\n",
        "                   M         144           8           1       0.869       0.983       0.812\n",
        "                   N         144           4       0.541       0.893       0.826       0.685\n",
        "                   O         144           7           1       0.953       0.996       0.771\n",
        "                   P         144           7           1       0.782       0.995       0.659\n",
        "                   Q         144           4       0.781           1       0.945       0.806\n",
        "                   R         144           7           1       0.717       0.996       0.808\n",
        "                   S         144           4       0.874           1       0.995       0.821\n",
        "                   T         144           6       0.716       0.667       0.913       0.763\n",
        "                   U         144           7       0.619           1       0.914       0.759\n",
        "                   V         144           5        0.75         0.6       0.628       0.504\n",
        "                   W         144           3       0.925           1       0.995        0.83\n",
        "                   X         144           1        0.74           1       0.995       0.796\n",
        "                   Y         144           8           1       0.767       0.996       0.779\n",
        "                   Z         144           4         0.8           1       0.995       0.846\n",
        "50 epochs completed in 0.170 hours.\n",
        "\n",
        "Optimizer stripped from runs/train/exp2/weights/last.pt, 12.4MB\n",
        "Optimizer stripped from runs/train/exp2/weights/best.pt, 12.4MB"
      ],
      "metadata": {
        "id": "SY6KF-uTT-3w"
      },
      "execution_count": null,
      "outputs": []
    },
    {
      "cell_type": "markdown",
      "source": [
        "- 두번째 학습 시작(첫번째 학습결과 나온 가중치 사용용)"
      ],
      "metadata": {
        "id": "CnbnZDsCU_Lx"
      }
    },
    {
      "cell_type": "code",
      "execution_count": null,
      "metadata": {
        "id": "O1t-q-IKRyYO"
      },
      "outputs": [],
      "source": [
        "!python /tf/notebooks/YOLOv7/yolov7/train.py --epochs 300  --device 0 --batch-size 64 \\\n",
        "--data /tf/notebooks/datasets/data.yaml --img 640 640 --cfg /tf/notebooks/YOLOv7/yolov7/cfg/training/yolov7-tiny.yaml \\\n",
        "--weights /tf/notebooks/YOLOv7/yolov7/runs/train/exp2/weights/last.pt --hyp /tf/notebooks/YOLOv7/yolov7/data/hyp.scratch.tiny.yaml"
      ]
    },
    {
      "cell_type": "markdown",
      "source": [
        "- 두번째 학습결과"
      ],
      "metadata": {
        "id": "zSzJ-NU2VGmb"
      }
    },
    {
      "cell_type": "code",
      "source": [
        " Epoch   gpu_mem       box       obj       cls     total    labels  img_size\n",
        "   299/299     8.96G   0.01811  0.006013   0.01278    0.0369        83       640\n",
        "               Class      Images      Labels           P           R      mAP@.5\n",
        "                 all         144         144       0.904       0.858       0.949       0.762\n",
        "                   A         144           5       0.946         0.8       0.854       0.613\n",
        "                   B         144           9           1       0.675       0.929       0.777\n",
        "                   C         144           3       0.598       0.667       0.789       0.673\n",
        "                   D         144           6       0.935       0.833       0.973         0.8\n",
        "                   E         144           4       0.916           1       0.996       0.858\n",
        "                   F         144           8       0.889           1       0.996       0.884\n",
        "                   G         144           5        0.91           1       0.996       0.824\n",
        "                   H         144           9       0.992           1       0.996       0.716\n",
        "                   I         144           2       0.761         0.5       0.638        0.56\n",
        "                   J         144           8       0.969           1       0.996       0.626\n",
        "                   K         144           6       0.817       0.749       0.949       0.824\n",
        "                   L         144           4       0.917           1       0.996       0.846\n",
        "                   M         144           8           1       0.884       0.997       0.779\n",
        "                   N         144           4        0.79           1       0.995       0.804\n",
        "                   O         144           7           1       0.682       0.996       0.783\n",
        "                   P         144           7           1       0.866       0.996       0.613\n",
        "                   Q         144           4           1       0.893       0.995       0.796\n",
        "                   R         144           7           1       0.758       0.978       0.826\n",
        "                   S         144           4       0.933           1       0.995       0.809\n",
        "                   T         144           6       0.812       0.727       0.808       0.699\n",
        "                   U         144           7           1       0.909       0.996       0.816\n",
        "                   V         144           5       0.877         0.6       0.847       0.729\n",
        "                   W         144           3       0.701           1       0.996       0.863\n",
        "                   X         144           1        0.82           1       0.995       0.796\n",
        "                   Y         144           8           1       0.761       0.984       0.652\n",
        "                   Z         144           4       0.932           1       0.995       0.833\n",
        "300 epochs completed in 0.965 hours.\n",
        "\n",
        "Optimizer stripped from runs/train/exp3/weights/last.pt, 12.4MB\n",
        "Optimizer stripped from runs/train/exp3/weights/best.pt, 12.4MB"
      ],
      "metadata": {
        "id": "34ivY5m5U4qM"
      },
      "execution_count": null,
      "outputs": []
    },
    {
      "cell_type": "markdown",
      "source": [
        "# Yolov7-tiny 학습2\n",
        "device cpu로 설정해 외장그래픽카드가 없는 노트북에서 사용가능하도록 따로 학습"
      ],
      "metadata": {
        "id": "lpwxWvERW8Pz"
      }
    },
    {
      "cell_type": "code",
      "source": [
        "# run this cell to begin training #Yolov7 -tiny cpu 학습\n",
        "!python /tf/notebooks/YOLOv7/yolov7/train.py --epochs 100  --device cpu --batch-size 64 \\\n",
        "--data /tf/notebooks/datasets/data.yaml --img 640 640 --cfg /tf/notebooks/YOLOv7/yolov7/cfg/training/yolov7-tiny.yaml \\\n",
        "--weights /tf/notebooks/YOLOv7/yolov7/yolov7-tiny.pt --hyp /tf/notebooks/YOLOv7/yolov7/data/hyp.scratch.tiny.yaml"
      ],
      "metadata": {
        "id": "r8-pQjXmXETb"
      },
      "execution_count": null,
      "outputs": []
    },
    {
      "cell_type": "markdown",
      "source": [
        "- 학습결과"
      ],
      "metadata": {
        "id": "nmXwxJplXL2e"
      }
    },
    {
      "cell_type": "code",
      "source": [
        "\n",
        "     Epoch   gpu_mem       box       obj       cls     total    labels  img_size\n",
        "     99/99        0G   0.01608  0.007854   0.02274   0.04668        97       640\n",
        "               Class      Images      Labels           P           R      mAP@.5\n",
        "                 all         144         144       0.805       0.878       0.917       0.737\n",
        "                   A         144           5       0.739         0.6       0.772       0.603\n",
        "                   B         144           9           1       0.828       0.996       0.885\n",
        "                   C         144           3       0.419       0.731        0.72       0.632\n",
        "                   D         144           6       0.856       0.991       0.972       0.806\n",
        "                   E         144           4       0.846           1       0.995       0.896\n",
        "                   F         144           8       0.663           1       0.899       0.744\n",
        "                   G         144           5       0.827           1       0.995       0.806\n",
        "                   H         144           9       0.913       0.889       0.985       0.788\n",
        "                   I         144           2       0.626         0.5       0.495       0.446\n",
        "                   J         144           8        0.88       0.875       0.982       0.543\n",
        "                   K         144           6           1       0.778       0.956       0.841\n",
        "                   L         144           4       0.717           1       0.995       0.804\n",
        "                   M         144           8       0.833       0.875        0.94       0.788\n",
        "                   N         144           4        0.47           1       0.705       0.521\n",
        "                   O         144           7           1       0.737       0.995       0.814\n",
        "                   P         144           7       0.837       0.736       0.924       0.547\n",
        "                   Q         144           4           1       0.932       0.995       0.727\n",
        "                   R         144           7       0.857       0.855       0.934       0.752\n",
        "                   S         144           4       0.855           1       0.995       0.803\n",
        "                   T         144           6       0.784       0.833       0.927       0.786\n",
        "                   U         144           7        0.75           1       0.944       0.821\n",
        "                   V         144           5        0.77        0.68       0.738       0.562\n",
        "                   W         144           3       0.836           1       0.995       0.896\n",
        "                   X         144           1       0.577           1       0.995       0.896\n",
        "                   Y         144           8       0.997           1       0.996       0.642\n",
        "                   Z         144           4       0.883           1       0.996       0.821\n",
        "100 epochs completed in 4.533 hours.\n",
        "\n",
        "Optimizer stripped from runs/train/exp6/weights/last.pt, 12.4MB\n",
        "Optimizer stripped from runs/train/exp6/weights/best.pt, 12.4MB"
      ],
      "metadata": {
        "id": "vy3hj1Q_XJ3L"
      },
      "execution_count": null,
      "outputs": []
    }
  ],
  "metadata": {
    "kernelspec": {
      "display_name": "Python 3",
      "language": "python",
      "name": "python3"
    },
    "language_info": {
      "codemirror_mode": {
        "name": "ipython",
        "version": 3
      },
      "file_extension": ".py",
      "mimetype": "text/x-python",
      "name": "python",
      "nbconvert_exporter": "python",
      "pygments_lexer": "ipython3",
      "version": "3.8.10"
    },
    "colab": {
      "provenance": []
    }
  },
  "nbformat": 4,
  "nbformat_minor": 0
}